{
 "cells": [
  {
   "cell_type": "code",
   "execution_count": 1,
   "metadata": {},
   "outputs": [
    {
     "name": "stderr",
     "output_type": "stream",
     "text": [
      "[nltk_data] Downloading package stopwords to\n",
      "[nltk_data]     C:\\Users\\LEGION\\AppData\\Roaming\\nltk_data...\n",
      "[nltk_data]   Package stopwords is already up-to-date!\n",
      "[nltk_data] Downloading package punkt to\n",
      "[nltk_data]     C:\\Users\\LEGION\\AppData\\Roaming\\nltk_data...\n",
      "[nltk_data]   Package punkt is already up-to-date!\n",
      "[nltk_data] Downloading package wordnet to\n",
      "[nltk_data]     C:\\Users\\LEGION\\AppData\\Roaming\\nltk_data...\n",
      "[nltk_data]   Package wordnet is already up-to-date!\n"
     ]
    }
   ],
   "source": [
    "import pandas as pd\n",
    "from sklearn.feature_extraction.text import TfidfVectorizer\n",
    "\n",
    "import nltk\n",
    "from nltk.corpus import stopwords\n",
    "from nltk.tokenize import word_tokenize\n",
    "from nltk.stem import WordNetLemmatizer\n",
    "nltk.download('stopwords')\n",
    "nltk.download('punkt')\n",
    "nltk.download('wordnet')\n",
    "\n",
    "from sklearn.neural_network import MLPClassifier\n",
    "\n",
    "from sklearn.metrics import accuracy_score\n",
    "from sklearn.model_selection import KFold, cross_val_score\n",
    "\n",
    "import numpy as np\n",
    "\n",
    "from sklearn.decomposition import TruncatedSVD\n",
    "from scipy.sparse import csr_matrix"
   ]
  },
  {
   "cell_type": "code",
   "execution_count": 2,
   "metadata": {},
   "outputs": [],
   "source": [
    "# Load the datasets\n",
    "train_data = pd.read_csv('train.csv')\n",
    "val_data = pd.read_csv('val.csv')\n",
    "test_data = pd.read_csv('test.csv')\n",
    "\n",
    "lengthTestData = len(test_data)"
   ]
  },
  {
   "cell_type": "code",
   "execution_count": 3,
   "metadata": {},
   "outputs": [],
   "source": [
    "# Combine text data for preprocessing\n",
    "text = pd.concat([train_data['text'], val_data['text']], ignore_index=True)\n",
    "text_test = test_data['text']"
   ]
  },
  {
   "cell_type": "code",
   "execution_count": 4,
   "metadata": {},
   "outputs": [],
   "source": [
    "# Define stopwords and lemmatizer\n",
    "stop_words = set(stopwords.words('english'))\n",
    "lemmatizer = WordNetLemmatizer()"
   ]
  },
  {
   "cell_type": "code",
   "execution_count": 5,
   "metadata": {},
   "outputs": [],
   "source": [
    "# Function to preprocess text\n",
    "def preprocess_text(text):\n",
    "    tokens = word_tokenize(text.lower())  # Tokenization and lowercase\n",
    "    filtered_tokens = [lemmatizer.lemmatize(token) for token in tokens if token not in stop_words]  # Remove stopwords and lemmatize\n",
    "    return ' '.join(filtered_tokens)"
   ]
  },
  {
   "cell_type": "code",
   "execution_count": 6,
   "metadata": {},
   "outputs": [],
   "source": [
    "text_preprocessed = text.apply(preprocess_text)"
   ]
  },
  {
   "cell_type": "code",
   "execution_count": 7,
   "metadata": {},
   "outputs": [
    {
     "name": "stdout",
     "output_type": "stream",
     "text": [
      "0        beirut ( reuters ) - iran military chief met s...\n",
      "1        hanoi ( reuters ) - top u.s. envoy began two-d...\n",
      "2        ( reuters ) - four u.s. senator asked senate j...\n",
      "3        first read morning briefing meet press nbc pol...\n",
      "4        cairo ( reuters ) - six month egypt election ,...\n",
      "                               ...                        \n",
      "54714    lack oversight prof donald trump totally unfit...\n",
      "54715    tucker carlson responded espn anchor calling p...\n",
      "54716    getting something nothing rage president profe...\n",
      "54717    black emanuelle fixed 1976. attila speaking eu...\n",
      "54718    chaos broke legal american illegal alien clash...\n",
      "Name: text, Length: 54719, dtype: object\n"
     ]
    }
   ],
   "source": [
    "print(text_preprocessed)"
   ]
  },
  {
   "cell_type": "code",
   "execution_count": 8,
   "metadata": {},
   "outputs": [
    {
     "name": "stdout",
     "output_type": "stream",
     "text": [
      "0        beirut (reuters) - iran s military chief met w...\n",
      "1        hanoi (reuters) - a top u.s. envoy began a two...\n",
      "2        (reuters) - four u.s. senators have asked the ...\n",
      "3        first read is a morning briefing from meet the...\n",
      "4        cairo (reuters) - six months before egypt s el...\n",
      "                               ...                        \n",
      "54714    this lack of oversight proves that donald trum...\n",
      "54715    tucker carlson responded to an espn anchor cal...\n",
      "54716    because getting something for nothing is all t...\n",
      "54717    black emanuelle fixed all that in 1976. attila...\n",
      "54718    chaos broke out after legal americans and ille...\n",
      "Name: text, Length: 54719, dtype: object\n"
     ]
    }
   ],
   "source": [
    "print(text)"
   ]
  },
  {
   "cell_type": "code",
   "execution_count": 9,
   "metadata": {},
   "outputs": [],
   "source": [
    "# Initialize TF-IDF vectorizer without specifying max_features\n",
    "tfidf_vectorizer = TfidfVectorizer()"
   ]
  },
  {
   "cell_type": "code",
   "execution_count": 10,
   "metadata": {},
   "outputs": [],
   "source": [
    "# Fit and transform the preprocessed text data\n",
    "tfidf_matrix = tfidf_vectorizer.fit_transform(text_preprocessed)"
   ]
  },
  {
   "cell_type": "code",
   "execution_count": 11,
   "metadata": {},
   "outputs": [
    {
     "name": "stdout",
     "output_type": "stream",
     "text": [
      "169079\n"
     ]
    }
   ],
   "source": [
    "# Get the number of unique tokens\n",
    "num_unique_tokens = len(tfidf_vectorizer.get_feature_names_out())\n",
    "print(num_unique_tokens)"
   ]
  },
  {
   "cell_type": "code",
   "execution_count": 12,
   "metadata": {},
   "outputs": [],
   "source": [
    "# Re-initialize TF-IDF vectorizer with the determined max_features\n",
    "tfidf_vectorizer = TfidfVectorizer(max_features=num_unique_tokens)"
   ]
  },
  {
   "cell_type": "code",
   "execution_count": 13,
   "metadata": {},
   "outputs": [],
   "source": [
    "#Fit and transform the text data again with the updated max_features\n",
    "tfidf_matrix = tfidf_vectorizer.fit_transform(text_preprocessed)\n",
    "\n",
    "# Convert the TF-IDF matrix to a CSR (Compressed Sparse Row) matrix for efficient row-wise operations\n",
    "csr_tfidf_matrix = csr_matrix(tfidf_matrix)\n",
    "\n",
    "# Find the row index with the maximum number of filled values\n",
    "max_features_row_index = csr_tfidf_matrix.getnnz(axis=1).argmax()\n",
    "\n",
    "# Get the number of features in the document with the most filled values\n",
    "max_features = csr_tfidf_matrix[max_features_row_index].count_nonzero()\n",
    "\n",
    "svd = TruncatedSVD(n_components=int(max_features*0.3))\n",
    "tfidf_matrix = svd.fit_transform(tfidf_matrix)"
   ]
  },
  {
   "cell_type": "code",
   "execution_count": 14,
   "metadata": {},
   "outputs": [],
   "source": [
    "#dense_tfidf_matrix = tfidf_matrix[:len(train_data)]\n",
    "#dense_val_tfidf_matrix = tfidf_matrix[len(train_data):len(train_data) + len(val_data)]\n",
    "\n",
    "# Merging the Validation and Training Data into one for a larger training dataset.\n",
    "#dense_tfidf_matrix = tfidf_matrix[:len(train_data) + len(val_data)]"
   ]
  },
  {
   "cell_type": "code",
   "execution_count": 15,
   "metadata": {},
   "outputs": [],
   "source": [
    "# Convert them into Arrays\n",
    "train_labels = train_data['label'].values\n",
    "val_labels = val_data['label'].values\n",
    "\n",
    "dense_labels = np.concatenate((train_data['label'].values, val_data['label'].values), axis=0)"
   ]
  },
  {
   "cell_type": "code",
   "execution_count": 16,
   "metadata": {},
   "outputs": [],
   "source": [
    "# Create and train the MLP model\n",
    "mlp_model = MLPClassifier(hidden_layer_sizes=(600, 10), max_iter=300, activation='relu', solver='adam', learning_rate='adaptive', verbose=True)"
   ]
  },
  {
   "cell_type": "code",
   "execution_count": 17,
   "metadata": {},
   "outputs": [
    {
     "name": "stdout",
     "output_type": "stream",
     "text": [
      "Iteration 1, loss = 0.31488142\n",
      "Iteration 2, loss = 0.12511585\n",
      "Iteration 3, loss = 0.11593744\n",
      "Iteration 4, loss = 0.10632305\n",
      "Iteration 5, loss = 0.09458623\n",
      "Iteration 6, loss = 0.07915011\n",
      "Iteration 7, loss = 0.06150238\n",
      "Iteration 8, loss = 0.04473411\n",
      "Iteration 9, loss = 0.03086687\n",
      "Iteration 10, loss = 0.02083850\n",
      "Iteration 11, loss = 0.01439809\n",
      "Iteration 12, loss = 0.01015005\n",
      "Iteration 13, loss = 0.00744367\n",
      "Iteration 14, loss = 0.00579051\n",
      "Iteration 15, loss = 0.00429577\n",
      "Iteration 16, loss = 0.00374894\n",
      "Iteration 17, loss = 0.00307425\n",
      "Iteration 18, loss = 0.00287738\n",
      "Iteration 19, loss = 0.00253568\n",
      "Iteration 20, loss = 0.00730340\n",
      "Iteration 21, loss = 0.00848565\n",
      "Iteration 22, loss = 0.00549221\n",
      "Iteration 23, loss = 0.00367196\n",
      "Iteration 24, loss = 0.00223074\n",
      "Iteration 25, loss = 0.00201487\n",
      "Iteration 26, loss = 0.00181932\n",
      "Iteration 27, loss = 0.00223055\n",
      "Iteration 28, loss = 0.00230874\n",
      "Iteration 29, loss = 0.00206467\n",
      "Iteration 30, loss = 0.00307161\n",
      "Iteration 31, loss = 0.01081732\n",
      "Iteration 32, loss = 0.00643765\n",
      "Iteration 33, loss = 0.00249140\n",
      "Iteration 34, loss = 0.00223163\n",
      "Iteration 35, loss = 0.00184518\n",
      "Iteration 36, loss = 0.00187607\n",
      "Iteration 37, loss = 0.00180834\n",
      "Training loss did not improve more than tol=0.000100 for 10 consecutive epochs. Stopping.\n",
      "Iteration 1, loss = 0.30386990\n",
      "Iteration 2, loss = 0.12450784\n",
      "Iteration 3, loss = 0.11319014\n",
      "Iteration 4, loss = 0.10141916\n",
      "Iteration 5, loss = 0.08653859\n",
      "Iteration 6, loss = 0.06793513\n",
      "Iteration 7, loss = 0.05030310\n",
      "Iteration 8, loss = 0.03520608\n",
      "Iteration 9, loss = 0.02374347\n",
      "Iteration 10, loss = 0.01610944\n",
      "Iteration 11, loss = 0.01163069\n",
      "Iteration 12, loss = 0.00860504\n",
      "Iteration 13, loss = 0.00644123\n",
      "Iteration 14, loss = 0.00506945\n",
      "Iteration 15, loss = 0.00507610\n",
      "Iteration 16, loss = 0.00497970\n",
      "Iteration 17, loss = 0.00544696\n",
      "Iteration 18, loss = 0.00579610\n",
      "Iteration 19, loss = 0.00641468\n",
      "Iteration 20, loss = 0.00482534\n",
      "Iteration 21, loss = 0.00293877\n",
      "Iteration 22, loss = 0.00221602\n",
      "Iteration 23, loss = 0.00204795\n",
      "Iteration 24, loss = 0.00178335\n",
      "Iteration 25, loss = 0.00169779\n",
      "Iteration 26, loss = 0.00185733\n",
      "Iteration 27, loss = 0.00159967\n",
      "Iteration 28, loss = 0.00243574\n",
      "Iteration 29, loss = 0.01784013\n",
      "Iteration 30, loss = 0.00604636\n",
      "Iteration 31, loss = 0.00300974\n",
      "Iteration 32, loss = 0.00297316\n",
      "Iteration 33, loss = 0.00285747\n",
      "Iteration 34, loss = 0.00192550\n",
      "Iteration 35, loss = 0.00174971\n",
      "Training loss did not improve more than tol=0.000100 for 10 consecutive epochs. Stopping.\n",
      "Iteration 1, loss = 0.28384357\n",
      "Iteration 2, loss = 0.12474762\n",
      "Iteration 3, loss = 0.11644673\n",
      "Iteration 4, loss = 0.10254457\n",
      "Iteration 5, loss = 0.08612977\n",
      "Iteration 6, loss = 0.06730571\n",
      "Iteration 7, loss = 0.04878052\n",
      "Iteration 8, loss = 0.03224124\n",
      "Iteration 9, loss = 0.02077874\n",
      "Iteration 10, loss = 0.01339720\n",
      "Iteration 11, loss = 0.00910112\n",
      "Iteration 12, loss = 0.00686487\n",
      "Iteration 13, loss = 0.00508744\n",
      "Iteration 14, loss = 0.00408848\n",
      "Iteration 15, loss = 0.00357901\n",
      "Iteration 16, loss = 0.00412589\n",
      "Iteration 17, loss = 0.00330332\n",
      "Iteration 18, loss = 0.00501203\n",
      "Iteration 19, loss = 0.00817656\n",
      "Iteration 20, loss = 0.00962047\n",
      "Iteration 21, loss = 0.00535888\n",
      "Iteration 22, loss = 0.00307314\n",
      "Iteration 23, loss = 0.00234449\n",
      "Iteration 24, loss = 0.00188690\n",
      "Iteration 25, loss = 0.00163392\n",
      "Iteration 26, loss = 0.00152025\n",
      "Iteration 27, loss = 0.00145638\n",
      "Iteration 28, loss = 0.00138484\n",
      "Iteration 29, loss = 0.00149708\n",
      "Iteration 30, loss = 0.00136817\n",
      "Iteration 31, loss = 0.00136657\n",
      "Iteration 32, loss = 0.00130336\n",
      "Iteration 33, loss = 0.00159989\n",
      "Iteration 34, loss = 0.01870567\n",
      "Iteration 35, loss = 0.00866834\n",
      "Iteration 36, loss = 0.00305902\n",
      "Iteration 37, loss = 0.00167786\n",
      "Training loss did not improve more than tol=0.000100 for 10 consecutive epochs. Stopping.\n",
      "Iteration 1, loss = 0.33645678\n",
      "Iteration 2, loss = 0.12651969\n",
      "Iteration 3, loss = 0.11641026\n",
      "Iteration 4, loss = 0.10862889\n",
      "Iteration 5, loss = 0.09759618\n",
      "Iteration 6, loss = 0.08345643\n",
      "Iteration 7, loss = 0.06701712\n",
      "Iteration 8, loss = 0.04938604\n",
      "Iteration 9, loss = 0.03287130\n",
      "Iteration 10, loss = 0.02151904\n",
      "Iteration 11, loss = 0.01411497\n",
      "Iteration 12, loss = 0.00970738\n",
      "Iteration 13, loss = 0.00697243\n",
      "Iteration 14, loss = 0.00509657\n",
      "Iteration 15, loss = 0.00448752\n",
      "Iteration 16, loss = 0.00402484\n",
      "Iteration 17, loss = 0.00317031\n",
      "Iteration 18, loss = 0.00264889\n",
      "Iteration 19, loss = 0.00254329\n",
      "Iteration 20, loss = 0.00332990\n",
      "Iteration 21, loss = 0.00299708\n",
      "Iteration 22, loss = 0.00918931\n",
      "Iteration 23, loss = 0.00796701\n",
      "Iteration 24, loss = 0.00411089\n",
      "Iteration 25, loss = 0.00378196\n",
      "Iteration 26, loss = 0.00232030\n",
      "Iteration 27, loss = 0.00228059\n",
      "Iteration 28, loss = 0.00269947\n",
      "Iteration 29, loss = 0.00212594\n",
      "Iteration 30, loss = 0.00182986\n",
      "Iteration 31, loss = 0.00174891\n",
      "Iteration 32, loss = 0.00162687\n",
      "Iteration 33, loss = 0.00165796\n",
      "Iteration 34, loss = 0.00161679\n",
      "Iteration 35, loss = 0.00210413\n",
      "Iteration 36, loss = 0.00187609\n",
      "Iteration 37, loss = 0.01118786\n",
      "Iteration 38, loss = 0.01182200\n",
      "Iteration 39, loss = 0.00433396\n",
      "Iteration 40, loss = 0.00265021\n",
      "Iteration 41, loss = 0.00200132\n",
      "Iteration 42, loss = 0.00186520\n",
      "Iteration 43, loss = 0.00181732\n",
      "Training loss did not improve more than tol=0.000100 for 10 consecutive epochs. Stopping.\n",
      "Iteration 1, loss = 0.30507586\n",
      "Iteration 2, loss = 0.12704934\n",
      "Iteration 3, loss = 0.11700682\n",
      "Iteration 4, loss = 0.10851722\n",
      "Iteration 5, loss = 0.09592051\n",
      "Iteration 6, loss = 0.07989992\n",
      "Iteration 7, loss = 0.06232142\n",
      "Iteration 8, loss = 0.04468172\n",
      "Iteration 9, loss = 0.03058910\n",
      "Iteration 10, loss = 0.02056229\n",
      "Iteration 11, loss = 0.01370803\n",
      "Iteration 12, loss = 0.00941539\n",
      "Iteration 13, loss = 0.00726124\n",
      "Iteration 14, loss = 0.00500290\n",
      "Iteration 15, loss = 0.00434510\n",
      "Iteration 16, loss = 0.00331837\n",
      "Iteration 17, loss = 0.00322699\n",
      "Iteration 18, loss = 0.00221972\n",
      "Iteration 19, loss = 0.00214376\n",
      "Iteration 20, loss = 0.00214076\n",
      "Iteration 21, loss = 0.00214907\n",
      "Iteration 22, loss = 0.00215723\n",
      "Iteration 23, loss = 0.00167208\n",
      "Iteration 24, loss = 0.00160483\n",
      "Iteration 25, loss = 0.02134691\n",
      "Iteration 26, loss = 0.01023582\n",
      "Iteration 27, loss = 0.00339160\n",
      "Iteration 28, loss = 0.00202722\n",
      "Iteration 29, loss = 0.00188010\n",
      "Iteration 30, loss = 0.00177157\n",
      "Iteration 31, loss = 0.00178009\n",
      "Iteration 32, loss = 0.00168957\n",
      "Iteration 33, loss = 0.00188051\n",
      "Iteration 34, loss = 0.00181606\n",
      "Training loss did not improve more than tol=0.000100 for 10 consecutive epochs. Stopping.\n",
      "Cross-validation scores: [0.9627193  0.96107456 0.96034357 0.95970395 0.96490907]\n",
      "Average CV accuracy: 0.9617500897126151\n"
     ]
    }
   ],
   "source": [
    "#CROSS FOLD VALIDATION, DELETE IF NECESSARY\n",
    "\n",
    "# Initialize KFold with the desired number of folds\n",
    "kf = KFold(n_splits=5, shuffle=True, random_state=42)\n",
    "\n",
    "# Perform cross-validation\n",
    "cv_scores = cross_val_score(mlp_model, tfidf_matrix, dense_labels, cv=kf, scoring='accuracy')\n",
    "\n",
    "# Print the cross-validation scores\n",
    "print(\"Cross-validation scores:\", cv_scores)\n",
    "print(\"Average CV accuracy:\", cv_scores.mean())"
   ]
  },
  {
   "cell_type": "code",
   "execution_count": 18,
   "metadata": {},
   "outputs": [
    {
     "name": "stdout",
     "output_type": "stream",
     "text": [
      "Iteration 1, loss = 0.29357790\n",
      "Iteration 2, loss = 0.12343453\n",
      "Iteration 3, loss = 0.11380847\n",
      "Iteration 4, loss = 0.10177650\n",
      "Iteration 5, loss = 0.08608330\n",
      "Iteration 6, loss = 0.06666439\n",
      "Iteration 7, loss = 0.04800427\n",
      "Iteration 8, loss = 0.03225927\n",
      "Iteration 9, loss = 0.02108792\n",
      "Iteration 10, loss = 0.01391420\n",
      "Iteration 11, loss = 0.00986065\n",
      "Iteration 12, loss = 0.00680805\n",
      "Iteration 13, loss = 0.00538904\n",
      "Iteration 14, loss = 0.00410078\n",
      "Iteration 15, loss = 0.00352443\n",
      "Iteration 16, loss = 0.00343592\n",
      "Iteration 17, loss = 0.00590920\n",
      "Iteration 18, loss = 0.01030695\n",
      "Iteration 19, loss = 0.00448168\n",
      "Iteration 20, loss = 0.00332714\n",
      "Iteration 21, loss = 0.00322020\n",
      "Iteration 22, loss = 0.00239419\n",
      "Iteration 23, loss = 0.00224420\n",
      "Iteration 24, loss = 0.00251573\n",
      "Iteration 25, loss = 0.00497959\n",
      "Iteration 26, loss = 0.00703744\n",
      "Iteration 27, loss = 0.00670938\n",
      "Iteration 28, loss = 0.00369916\n",
      "Iteration 29, loss = 0.00231897\n",
      "Iteration 30, loss = 0.00223371\n",
      "Iteration 31, loss = 0.00205027\n",
      "Iteration 32, loss = 0.00229389\n",
      "Iteration 33, loss = 0.00186748\n",
      "Iteration 34, loss = 0.00172164\n",
      "Iteration 35, loss = 0.00167766\n",
      "Iteration 36, loss = 0.00181531\n",
      "Iteration 37, loss = 0.00160721\n",
      "Iteration 38, loss = 0.00157193\n",
      "Iteration 39, loss = 0.00195192\n",
      "Iteration 40, loss = 0.01262220\n",
      "Iteration 41, loss = 0.00757472\n",
      "Iteration 42, loss = 0.00308149\n",
      "Iteration 43, loss = 0.00214724\n",
      "Iteration 44, loss = 0.00189681\n",
      "Iteration 45, loss = 0.00184009\n",
      "Training loss did not improve more than tol=0.000100 for 10 consecutive epochs. Stopping.\n"
     ]
    },
    {
     "data": {
      "text/html": [
       "<style>#sk-container-id-1 {color: black;}#sk-container-id-1 pre{padding: 0;}#sk-container-id-1 div.sk-toggleable {background-color: white;}#sk-container-id-1 label.sk-toggleable__label {cursor: pointer;display: block;width: 100%;margin-bottom: 0;padding: 0.3em;box-sizing: border-box;text-align: center;}#sk-container-id-1 label.sk-toggleable__label-arrow:before {content: \"▸\";float: left;margin-right: 0.25em;color: #696969;}#sk-container-id-1 label.sk-toggleable__label-arrow:hover:before {color: black;}#sk-container-id-1 div.sk-estimator:hover label.sk-toggleable__label-arrow:before {color: black;}#sk-container-id-1 div.sk-toggleable__content {max-height: 0;max-width: 0;overflow: hidden;text-align: left;background-color: #f0f8ff;}#sk-container-id-1 div.sk-toggleable__content pre {margin: 0.2em;color: black;border-radius: 0.25em;background-color: #f0f8ff;}#sk-container-id-1 input.sk-toggleable__control:checked~div.sk-toggleable__content {max-height: 200px;max-width: 100%;overflow: auto;}#sk-container-id-1 input.sk-toggleable__control:checked~label.sk-toggleable__label-arrow:before {content: \"▾\";}#sk-container-id-1 div.sk-estimator input.sk-toggleable__control:checked~label.sk-toggleable__label {background-color: #d4ebff;}#sk-container-id-1 div.sk-label input.sk-toggleable__control:checked~label.sk-toggleable__label {background-color: #d4ebff;}#sk-container-id-1 input.sk-hidden--visually {border: 0;clip: rect(1px 1px 1px 1px);clip: rect(1px, 1px, 1px, 1px);height: 1px;margin: -1px;overflow: hidden;padding: 0;position: absolute;width: 1px;}#sk-container-id-1 div.sk-estimator {font-family: monospace;background-color: #f0f8ff;border: 1px dotted black;border-radius: 0.25em;box-sizing: border-box;margin-bottom: 0.5em;}#sk-container-id-1 div.sk-estimator:hover {background-color: #d4ebff;}#sk-container-id-1 div.sk-parallel-item::after {content: \"\";width: 100%;border-bottom: 1px solid gray;flex-grow: 1;}#sk-container-id-1 div.sk-label:hover label.sk-toggleable__label {background-color: #d4ebff;}#sk-container-id-1 div.sk-serial::before {content: \"\";position: absolute;border-left: 1px solid gray;box-sizing: border-box;top: 0;bottom: 0;left: 50%;z-index: 0;}#sk-container-id-1 div.sk-serial {display: flex;flex-direction: column;align-items: center;background-color: white;padding-right: 0.2em;padding-left: 0.2em;position: relative;}#sk-container-id-1 div.sk-item {position: relative;z-index: 1;}#sk-container-id-1 div.sk-parallel {display: flex;align-items: stretch;justify-content: center;background-color: white;position: relative;}#sk-container-id-1 div.sk-item::before, #sk-container-id-1 div.sk-parallel-item::before {content: \"\";position: absolute;border-left: 1px solid gray;box-sizing: border-box;top: 0;bottom: 0;left: 50%;z-index: -1;}#sk-container-id-1 div.sk-parallel-item {display: flex;flex-direction: column;z-index: 1;position: relative;background-color: white;}#sk-container-id-1 div.sk-parallel-item:first-child::after {align-self: flex-end;width: 50%;}#sk-container-id-1 div.sk-parallel-item:last-child::after {align-self: flex-start;width: 50%;}#sk-container-id-1 div.sk-parallel-item:only-child::after {width: 0;}#sk-container-id-1 div.sk-dashed-wrapped {border: 1px dashed gray;margin: 0 0.4em 0.5em 0.4em;box-sizing: border-box;padding-bottom: 0.4em;background-color: white;}#sk-container-id-1 div.sk-label label {font-family: monospace;font-weight: bold;display: inline-block;line-height: 1.2em;}#sk-container-id-1 div.sk-label-container {text-align: center;}#sk-container-id-1 div.sk-container {/* jupyter's `normalize.less` sets `[hidden] { display: none; }` but bootstrap.min.css set `[hidden] { display: none !important; }` so we also need the `!important` here to be able to override the default hidden behavior on the sphinx rendered scikit-learn.org. See: https://github.com/scikit-learn/scikit-learn/issues/21755 */display: inline-block !important;position: relative;}#sk-container-id-1 div.sk-text-repr-fallback {display: none;}</style><div id=\"sk-container-id-1\" class=\"sk-top-container\"><div class=\"sk-text-repr-fallback\"><pre>MLPClassifier(hidden_layer_sizes=(600, 10), learning_rate=&#x27;adaptive&#x27;,\n",
       "              max_iter=300, verbose=True)</pre><b>In a Jupyter environment, please rerun this cell to show the HTML representation or trust the notebook. <br />On GitHub, the HTML representation is unable to render, please try loading this page with nbviewer.org.</b></div><div class=\"sk-container\" hidden><div class=\"sk-item\"><div class=\"sk-estimator sk-toggleable\"><input class=\"sk-toggleable__control sk-hidden--visually\" id=\"sk-estimator-id-1\" type=\"checkbox\" checked><label for=\"sk-estimator-id-1\" class=\"sk-toggleable__label sk-toggleable__label-arrow\">MLPClassifier</label><div class=\"sk-toggleable__content\"><pre>MLPClassifier(hidden_layer_sizes=(600, 10), learning_rate=&#x27;adaptive&#x27;,\n",
       "              max_iter=300, verbose=True)</pre></div></div></div></div></div>"
      ],
      "text/plain": [
       "MLPClassifier(hidden_layer_sizes=(600, 10), learning_rate='adaptive',\n",
       "              max_iter=300, verbose=True)"
      ]
     },
     "execution_count": 18,
     "metadata": {},
     "output_type": "execute_result"
    }
   ],
   "source": [
    "mlp_model.fit(tfidf_matrix, dense_labels)"
   ]
  },
  {
   "cell_type": "code",
   "execution_count": 19,
   "metadata": {},
   "outputs": [
    {
     "name": "stdout",
     "output_type": "stream",
     "text": [
      "Test accuracy: 0.9615194869264924\n"
     ]
    }
   ],
   "source": [
    "text_test_preprocessed = text_test.apply(preprocess_text)\n",
    "test_tfidf_matrix = tfidf_vectorizer.transform(text_test_preprocessed)\n",
    "dense_test_tfidf_matrix = svd.transform(test_tfidf_matrix)\n",
    "test_labels = test_data['label'].values\n",
    "\n",
    "test_predictions = mlp_model.predict(dense_test_tfidf_matrix)\n",
    "test_accuracy = accuracy_score(test_labels, test_predictions)\n",
    "print(f'Test accuracy: {test_accuracy}')"
   ]
  },
  {
   "cell_type": "code",
   "execution_count": 20,
   "metadata": {},
   "outputs": [
    {
     "name": "stdout",
     "output_type": "stream",
     "text": [
      "              precision    recall  f1-score   support\n",
      "\n",
      "           0       0.96      0.97      0.97      3420\n",
      "           1       0.96      0.95      0.96      2661\n",
      "\n",
      "    accuracy                           0.96      6081\n",
      "   macro avg       0.96      0.96      0.96      6081\n",
      "weighted avg       0.96      0.96      0.96      6081\n",
      "\n"
     ]
    }
   ],
   "source": [
    "from sklearn.metrics import classification_report\n",
    "\n",
    "# Generate classification report\n",
    "report = classification_report(test_labels, test_predictions)\n",
    "print(report)   "
   ]
  },
  {
   "cell_type": "code",
   "execution_count": 21,
   "metadata": {},
   "outputs": [
    {
     "data": {
      "text/plain": [
       "['mlp_model_tfidf.joblib']"
      ]
     },
     "execution_count": 21,
     "metadata": {},
     "output_type": "execute_result"
    }
   ],
   "source": [
    "from joblib import dump\n",
    "dump(mlp_model, 'mlp_model_tfidf.joblib')"
   ]
  },
  {
   "cell_type": "code",
   "execution_count": 22,
   "metadata": {},
   "outputs": [
    {
     "name": "stdout",
     "output_type": "stream",
     "text": [
      "6081\n"
     ]
    }
   ],
   "source": [
    "print(lengthTestData)"
   ]
  },
  {
   "cell_type": "code",
   "execution_count": 23,
   "metadata": {},
   "outputs": [
    {
     "data": {
      "text/plain": [
       "5847.0"
      ]
     },
     "execution_count": 23,
     "metadata": {},
     "output_type": "execute_result"
    }
   ],
   "source": [
    "test_accuracy*lengthTestData"
   ]
  }
 ],
 "metadata": {
  "kernelspec": {
   "display_name": "base",
   "language": "python",
   "name": "python3"
  },
  "language_info": {
   "codemirror_mode": {
    "name": "ipython",
    "version": 3
   },
   "file_extension": ".py",
   "mimetype": "text/x-python",
   "name": "python",
   "nbconvert_exporter": "python",
   "pygments_lexer": "ipython3",
   "version": "3.9.13"
  }
 },
 "nbformat": 4,
 "nbformat_minor": 2
}
